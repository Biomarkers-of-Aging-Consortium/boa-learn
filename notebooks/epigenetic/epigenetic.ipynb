{
 "cells": [
  {
   "cell_type": "code",
   "execution_count": 106,
   "id": "bce69eda-3d12-4bd0-a7aa-190df5fdc728",
   "metadata": {},
   "outputs": [],
   "source": [
    "import pandas as pd\n",
    "def horvath_function(mult_sum):\n",
    "    const=0.695507258\n",
    "    BA= (mult_sum+const)*21+20\n",
    "    return BA"
   ]
  },
  {
   "cell_type": "code",
   "execution_count": 107,
   "id": "33a1107c-a11f-4017-b624-86d32d8f994e",
   "metadata": {},
   "outputs": [],
   "source": [
    "#Albert will provide all clocks in CSV format\n",
    "horvath=pd.read_csv('horvath.csv',index_col=0)"
   ]
  },
  {
   "cell_type": "code",
   "execution_count": 108,
   "id": "22cf0100-eec5-42f4-9f37-e38a3dac47ca",
   "metadata": {},
   "outputs": [],
   "source": [
    "#eaxmple epigenetic sample data online: GSM491937\n",
    "dnam_sample_file='https://ftp.ncbi.nlm.nih.gov/geo/samples/GSM491nnn/GSM491937/suppl/GSM491937.txt.gz'\n",
    "dnam=pd.read_table(dnam_sample_file,index_col=0,usecols=[0,1])"
   ]
  },
  {
   "cell_type": "code",
   "execution_count": 109,
   "id": "a737288d-83d8-493e-8f59-114537895dd3",
   "metadata": {},
   "outputs": [],
   "source": [
    "df=horvath.merge(dnam,left_index=True,right_index=True)"
   ]
  },
  {
   "cell_type": "code",
   "execution_count": 110,
   "id": "1d3c267f-dcfe-4cbe-8c48-8db76be9eb15",
   "metadata": {},
   "outputs": [],
   "source": [
    "df['mult']=df['CoefficientTraining']*df['Beta']"
   ]
  },
  {
   "cell_type": "code",
   "execution_count": 111,
   "id": "ba3cc6df-7b40-443b-aba1-377298208f0b",
   "metadata": {},
   "outputs": [],
   "source": [
    "mult_sum=df.mult.sum()"
   ]
  },
  {
   "cell_type": "code",
   "execution_count": 112,
   "id": "b03b0a68-deaf-4f89-a313-4d87761b219f",
   "metadata": {},
   "outputs": [
    {
     "data": {
      "text/plain": [
       "62.855688638421434"
      ]
     },
     "execution_count": 112,
     "metadata": {},
     "output_type": "execute_result"
    }
   ],
   "source": [
    "BA=horvath_function(mult_sum)\n",
    "BA"
   ]
  },
  {
   "cell_type": "code",
   "execution_count": 14,
   "id": "da63161b-4ced-4f5e-859e-92d73aeb26f0",
   "metadata": {},
   "outputs": [],
   "source": [
    "#eaxmple eigenetic series data online:\n",
    "dnam_serie_file=\"https://ftp.ncbi.nlm.nih.gov/geo/series/GSE19nnn/GSE19711/matrix/GSE19711_series_matrix.txt.gz\""
   ]
  },
  {
   "cell_type": "code",
   "execution_count": 37,
   "id": "3c93d55b-bde4-4340-b7a3-d8162fdfb421",
   "metadata": {},
   "outputs": [],
   "source": [
    "dnams=pd.read_table(dnam_serie_file,index_col=0,skiprows=74)"
   ]
  },
  {
   "cell_type": "code",
   "execution_count": 40,
   "id": "95afae2e-6cfc-46de-97e0-827fe364aab5",
   "metadata": {},
   "outputs": [],
   "source": [
    "df=horvath.merge(dnams,left_index=True,right_index=True)"
   ]
  },
  {
   "cell_type": "code",
   "execution_count": 41,
   "id": "6047c4d6-926d-429c-b87d-882b81555685",
   "metadata": {},
   "outputs": [],
   "source": [
    "for c in df.columns[1:]:\n",
    "    df[c]=df['CoefficientTraining']*df[c]\n",
    "    "
   ]
  },
  {
   "cell_type": "code",
   "execution_count": 44,
   "id": "ac0b12b0-5a12-4a50-b9ff-fb6349750d94",
   "metadata": {},
   "outputs": [],
   "source": [
    "df_sum=df.drop('CoefficientTraining',axis=1).sum()"
   ]
  },
  {
   "cell_type": "code",
   "execution_count": 93,
   "id": "c92b70f5-84eb-41e5-8f87-ab4156ede8dd",
   "metadata": {},
   "outputs": [],
   "source": [
    "ages=pd.read_table(dnam_serie_file,index_col=0,skiprows=lambda x: x not in [30,40],nrows=1).T"
   ]
  },
  {
   "cell_type": "code",
   "execution_count": 94,
   "id": "09f5aa5f-6336-45ea-b48d-58df460c59fd",
   "metadata": {},
   "outputs": [],
   "source": [
    "ages['CA']=ages['!Sample_characteristics_ch1'].str[-2:].astype(int)"
   ]
  },
  {
   "cell_type": "code",
   "execution_count": 113,
   "id": "e1bda675-cbbe-4a78-9b17-8a7da7554a1b",
   "metadata": {},
   "outputs": [],
   "source": [
    "ages['BA']=[horvath_function(s) for s in df_sum.values]"
   ]
  },
  {
   "cell_type": "code",
   "execution_count": 117,
   "id": "cd6bf7df-fa2c-407f-907b-4f18ffb82736",
   "metadata": {},
   "outputs": [
    {
     "data": {
      "text/html": [
       "<div>\n",
       "<style scoped>\n",
       "    .dataframe tbody tr th:only-of-type {\n",
       "        vertical-align: middle;\n",
       "    }\n",
       "\n",
       "    .dataframe tbody tr th {\n",
       "        vertical-align: top;\n",
       "    }\n",
       "\n",
       "    .dataframe thead th {\n",
       "        text-align: right;\n",
       "    }\n",
       "</style>\n",
       "<table border=\"1\" class=\"dataframe\">\n",
       "  <thead>\n",
       "    <tr style=\"text-align: right;\">\n",
       "      <th>!Sample_geo_accession</th>\n",
       "      <th>BA</th>\n",
       "      <th>CA</th>\n",
       "    </tr>\n",
       "    <tr>\n",
       "      <th>!Sample_geo_accession</th>\n",
       "      <th></th>\n",
       "      <th></th>\n",
       "    </tr>\n",
       "  </thead>\n",
       "  <tbody>\n",
       "    <tr>\n",
       "      <th>BA</th>\n",
       "      <td>1.000000</td>\n",
       "      <td>0.583584</td>\n",
       "    </tr>\n",
       "    <tr>\n",
       "      <th>CA</th>\n",
       "      <td>0.583584</td>\n",
       "      <td>1.000000</td>\n",
       "    </tr>\n",
       "  </tbody>\n",
       "</table>\n",
       "</div>"
      ],
      "text/plain": [
       "!Sample_geo_accession        BA        CA\n",
       "!Sample_geo_accession                    \n",
       "BA                     1.000000  0.583584\n",
       "CA                     0.583584  1.000000"
      ]
     },
     "execution_count": 117,
     "metadata": {},
     "output_type": "execute_result"
    },
    {
     "data": {
      "image/png": "[encoded data removed]",
      "text/plain": [
       "<Figure size 432x288 with 1 Axes>"
      ]
     },
     "metadata": {
      "needs_background": "light"
     },
     "output_type": "display_data"
    }
   ],
   "source": [
    "ages.plot.scatter('CA','BA', ylim=[45,80],xlim=[45,80])\n",
    "ages[['BA','CA']].corr()"
   ]
  },
  {
   "cell_type": "code",
   "execution_count": null,
   "id": "81af70f8-b15d-4446-91af-b2a4df48a9e4",
   "metadata": {},
   "outputs": [],
   "source": []
  }
 ],
 "metadata": {
  "kernelspec": {
   "display_name": "Python 3 (ipykernel)",
   "language": "python",
   "name": "python3"
  },
  "language_info": {
   "codemirror_mode": {
    "name": "ipython",
    "version": 3
   },
   "file_extension": ".py",
   "mimetype": "text/x-python",
   "name": "python",
   "nbconvert_exporter": "python",
   "pygments_lexer": "ipython3",
   "version": "3.10.9"
  }
 },
 "nbformat": 4,
 "nbformat_minor": 5
}
