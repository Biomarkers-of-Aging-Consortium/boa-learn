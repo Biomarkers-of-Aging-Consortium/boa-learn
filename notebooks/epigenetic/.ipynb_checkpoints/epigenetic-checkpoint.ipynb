{
 "cells": [
  {
   "cell_type": "code",
   "execution_count": 1,
   "id": "bce69eda-3d12-4bd0-a7aa-190df5fdc728",
   "metadata": {},
   "outputs": [],
   "source": [
    "import pandas as pd\n",
    "def horvath_function(mult_sum):\n",
    "    BA= mult_sum*21+20\n",
    "    return BA"
   ]
  },
  {
   "cell_type": "code",
   "execution_count": 2,
   "id": "33a1107c-a11f-4017-b624-86d32d8f994e",
   "metadata": {},
   "outputs": [],
   "source": [
    "#Albert will provide all clocks in CSV format\n",
    "df=pd.read_csv('horvath.csv',index_col=0)"
   ]
  },
  {
   "cell_type": "code",
   "execution_count": 3,
   "id": "22cf0100-eec5-42f4-9f37-e38a3dac47ca",
   "metadata": {},
   "outputs": [],
   "source": [
    "#eaxmple DNAM data online:\n",
    "dnam_file='https://ftp.ncbi.nlm.nih.gov/geo/samples/GSM491nnn/GSM491937/suppl/GSM491937.txt.gz'\n",
    "dnam=pd.read_table(dnam_file,index_col=0,usecols=[0,1])"
   ]
  },
  {
   "cell_type": "code",
   "execution_count": 4,
   "id": "a737288d-83d8-493e-8f59-114537895dd3",
   "metadata": {},
   "outputs": [],
   "source": [
    "df=df.merge(dnam,left_index=True,right_index=True)"
   ]
  },
  {
   "cell_type": "code",
   "execution_count": 5,
   "id": "1d3c267f-dcfe-4cbe-8c48-8db76be9eb15",
   "metadata": {},
   "outputs": [],
   "source": [
    "df['mult']=df['CoefficientTraining']*df['Beta']"
   ]
  },
  {
   "cell_type": "code",
   "execution_count": 6,
   "id": "ba3cc6df-7b40-443b-aba1-377298208f0b",
   "metadata": {},
   "outputs": [],
   "source": [
    "mult_sum=df.mult.sum()"
   ]
  },
  {
   "cell_type": "code",
   "execution_count": 7,
   "id": "b03b0a68-deaf-4f89-a313-4d87761b219f",
   "metadata": {},
   "outputs": [
    {
     "data": {
      "text/plain": [
       "48.250036220421435"
      ]
     },
     "execution_count": 7,
     "metadata": {},
     "output_type": "execute_result"
    }
   ],
   "source": [
    "BA=horvath_function(mult_sum)\n",
    "BA"
   ]
  },
  {
   "cell_type": "code",
   "execution_count": null,
   "id": "da63161b-4ced-4f5e-859e-92d73aeb26f0",
   "metadata": {},
   "outputs": [],
   "source": []
  }
 ],
 "metadata": {
  "kernelspec": {
   "display_name": "Python 3 (ipykernel)",
   "language": "python",
   "name": "python3"
  },
  "language_info": {
   "codemirror_mode": {
    "name": "ipython",
    "version": 3
   },
   "file_extension": ".py",
   "mimetype": "text/x-python",
   "name": "python",
   "nbconvert_exporter": "python",
   "pygments_lexer": "ipython3",
   "version": "3.10.9"
  }
 },
 "nbformat": 4,
 "nbformat_minor": 5
}
